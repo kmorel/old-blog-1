{
 "cells": [
  {
   "cell_type": "code",
   "execution_count": 1,
   "metadata": {
    "collapsed": true
   },
   "outputs": [],
   "source": [
    "from __future__ import print_function"
   ]
  },
  {
   "cell_type": "markdown",
   "metadata": {},
   "source": [
    "When analyzing data, I usually use the following three modules. I use pandas for data management, filtering, grouping, and processing. I use numpy for basic array math. I use toyplot for rendering the charts."
   ]
  },
  {
   "cell_type": "code",
   "execution_count": 2,
   "metadata": {
    "collapsed": false
   },
   "outputs": [
    {
     "name": "stdout",
     "output_type": "stream",
     "text": [
      "Pandas version:   0.19.1\n",
      "Numpy version:    1.11.2\n",
      "Toyplot version:  0.13.0\n"
     ]
    }
   ],
   "source": [
    "import pandas\n",
    "import numpy\n",
    "import toyplot\n",
    "import toyplot.pdf\n",
    "import toyplot.png\n",
    "import toyplot.svg\n",
    "\n",
    "print('Pandas version:  ', pandas.__version__)\n",
    "print('Numpy version:   ', numpy.__version__)\n",
    "print('Toyplot version: ', toyplot.__version__)"
   ]
  },
  {
   "cell_type": "markdown",
   "metadata": {},
   "source": [
    "Load in the \"auto\" dataset. This is a fun collection of data on cars manufactured between 1970 and 1982. The source for this data can be found at https://archive.ics.uci.edu/ml/datasets/Auto+MPG.\n",
    "\n",
    "The data are stored in a text file containing columns of data. We use the pandas.read_table() method to parse the data and load it in a pandas DataFrame. The file does not contain a header row, so we need to specify the names of the columns manually."
   ]
  },
  {
   "cell_type": "code",
   "execution_count": 3,
   "metadata": {
    "collapsed": false
   },
   "outputs": [],
   "source": [
    "column_names = ['MPG',\n",
    "                'Cylinders',\n",
    "                'Displacement',\n",
    "                'Horsepower',\n",
    "                'Weight',\n",
    "                'Acceleration',\n",
    "                'Model Year',\n",
    "                'Origin',\n",
    "                'Car Name']\n",
    "data = pandas.read_table('auto-mpg.data',\n",
    "                         delim_whitespace=True,\n",
    "                         names=column_names,\n",
    "                         index_col=False)"
   ]
  },
  {
   "cell_type": "markdown",
   "metadata": {},
   "source": [
    "In this plot we are going to show the trend of the average miles per gallon (MPG) rating for subsequent model years. This time period saw a significant increase in MPG driven by the U.S. fuel crisis. We can use the pivot_table feature of pandas to get this information from the data. (Excel and other spreadsheets have similar functionality.)"
   ]
  },
  {
   "cell_type": "code",
   "execution_count": 4,
   "metadata": {
    "collapsed": false
   },
   "outputs": [
    {
     "data": {
      "text/plain": [
       "Model Year\n",
       "70    17.689655\n",
       "71    21.250000\n",
       "72    18.714286\n",
       "73    17.100000\n",
       "74    22.703704\n",
       "75    20.266667\n",
       "76    21.573529\n",
       "77    23.375000\n",
       "78    24.061111\n",
       "79    25.093103\n",
       "80    33.696552\n",
       "81    30.334483\n",
       "82    31.709677\n",
       "Name: MPG, dtype: float64"
      ]
     },
     "execution_count": 4,
     "metadata": {},
     "output_type": "execute_result"
    }
   ],
   "source": [
    "average_mpg_per_year = data.pivot_table(columns='Model Year',\n",
    "                                        values='MPG',\n",
    "                                        aggfunc='mean')\n",
    "average_mpg_per_year"
   ]
  },
  {
   "cell_type": "markdown",
   "metadata": {},
   "source": [
    "Now use toyplot to plot this trend on a standard x-y chart."
   ]
  },
  {
   "cell_type": "code",
   "execution_count": 5,
   "metadata": {
    "collapsed": false
   },
   "outputs": [
    {
     "data": {
      "text/html": [
       "<div align=\"center\" class=\"toyplot\" id=\"t9714d12fa11948279bb72590124c2218\"><svg class=\"toyplot-canvas-Canvas\" height=\"249.60000000000002px\" id=\"t5989de3408b748eabbe3d35cb6dd81d0\" preserveAspectRatio=\"xMidYMid meet\" style=\"background-color:transparent;fill:rgb(16.1%,15.3%,14.1%);fill-opacity:1.0;font-family:Helvetica;font-size:12px;opacity:1.0;stroke:rgb(16.1%,15.3%,14.1%);stroke-opacity:1.0;stroke-width:1.0\" viewBox=\"0 0 384.0 249.60000000000002\" width=\"384.0px\" xmlns=\"http://www.w3.org/2000/svg\" xmlns:toyplot=\"http://www.sandia.gov/toyplot\" xmlns:xlink=\"http://www.w3.org/1999/xlink\"><g class=\"toyplot-coordinates-Cartesian\" id=\"t1bd0bcab1815480f8c84a9b8ab027872\"><clipPath id=\"tce3f3d71074a47faa7786a834b023bbb\"><rect height=\"169.60000000000002\" width=\"304.0\" x=\"40.0\" y=\"40.0\"></rect></clipPath><g clip-path=\"url(#tce3f3d71074a47faa7786a834b023bbb)\"><g class=\"toyplot-mark-Plot\" id=\"t918df551ef39409097f5735d9a2a2b67\" style=\"fill:none\"><g class=\"toyplot-Series\"><path d=\"M 50.0 121.06459271387639 L 73.666666666666657 105.25800245599672 L 97.333333333333343 116.51561896965089 L 121.0 123.68243962341381 L 144.66666666666666 98.804105456254447 L 168.33333333333334 109.62363214626825 L 192.0 103.82165370446171 L 215.66666666666669 95.823802701596392 L 239.33333333333331 92.777727748214829 L 263.0 88.196070405239496 L 286.66666666666669 50.0 L 310.33333333333331 64.926320098239842 L 334.0 58.820973683863023\" style=\"stroke:rgb(40%,76.1%,64.7%);stroke-opacity:1.0;stroke-width:2.0\"></path></g></g></g><g class=\"toyplot-coordinates-Axis\" id=\"t6376592baadb4f42bddcf4171a71f859\" transform=\"translate(50.0,199.6)translate(0,10.0)\"><line style=\"\" x1=\"0\" x2=\"284.0\" y1=\"0\" y2=\"0\"></line><g><text style=\"dominant-baseline:hanging;font-size:10px;font-weight:normal;stroke:none;text-anchor:middle\" transform=\"translate(0.0,6)\"><tspan style=\"dominant-baseline:inherit\">1970</tspan></text><text style=\"dominant-baseline:hanging;font-size:10px;font-weight:normal;stroke:none;text-anchor:middle\" transform=\"translate(94.66666666666666,6)\"><tspan style=\"dominant-baseline:inherit\">1974</tspan></text><text style=\"dominant-baseline:hanging;font-size:10px;font-weight:normal;stroke:none;text-anchor:middle\" transform=\"translate(189.33333333333331,6)\"><tspan style=\"dominant-baseline:inherit\">1978</tspan></text><text style=\"dominant-baseline:hanging;font-size:10px;font-weight:normal;stroke:none;text-anchor:middle\" transform=\"translate(284.0,6)\"><tspan style=\"dominant-baseline:inherit\">1982</tspan></text></g><text style=\"dominant-baseline:hanging;font-size:12px;font-weight:bold;stroke:none;text-anchor:middle\" transform=\"translate(142.0,22)\"><tspan style=\"dominant-baseline:inherit\">Model Year</tspan></text><g class=\"toyplot-coordinates-Axis-coordinates\" style=\"visibility:hidden\" transform=\"\"><line style=\"stroke:rgb(43.9%,50.2%,56.5%);stroke-opacity:1.0;stroke-width:1.0\" x1=\"0\" x2=\"0\" y1=\"-3.0\" y2=\"4.5\"></line><text style=\"alignment-baseline:alphabetic;fill:rgb(43.9%,50.2%,56.5%);fill-opacity:1.0;font-size:10px;font-weight:normal;stroke:none;text-anchor:middle\" x=\"0\" y=\"-6\"></text></g></g><g class=\"toyplot-coordinates-Axis\" id=\"ta3462cf2d6b1466898657b1725bc71ab\" transform=\"translate(50.0,199.6)rotate(-90.0)translate(0,-10.0)\"><line style=\"\" x1=\"75.9175603765862\" x2=\"149.60000000000002\" y1=\"0\" y2=\"0\"></line><g><text style=\"dominant-baseline:alphabetic;font-size:10px;font-weight:normal;stroke:none;text-anchor:middle\" transform=\"translate(0.0,-6)\"><tspan style=\"dominant-baseline:inherit\">0</tspan></text><text style=\"dominant-baseline:alphabetic;font-size:10px;font-weight:normal;stroke:none;text-anchor:middle\" transform=\"translate(44.396234138354494,-6)\"><tspan style=\"dominant-baseline:inherit\">10</tspan></text><text style=\"dominant-baseline:alphabetic;font-size:10px;font-weight:normal;stroke:none;text-anchor:middle\" transform=\"translate(88.79246827670899,-6)\"><tspan style=\"dominant-baseline:inherit\">20</tspan></text><text style=\"dominant-baseline:alphabetic;font-size:10px;font-weight:normal;stroke:none;text-anchor:middle\" transform=\"translate(133.1887024150635,-6)\"><tspan style=\"dominant-baseline:inherit\">30</tspan></text></g><text style=\"dominant-baseline:alphabetic;font-size:12px;font-weight:bold;stroke:none;text-anchor:middle\" transform=\"translate(74.800000000000011,-22)\"><tspan style=\"dominant-baseline:inherit\">Average MPG</tspan></text><g class=\"toyplot-coordinates-Axis-coordinates\" style=\"visibility:hidden\" transform=\"\"><line style=\"stroke:rgb(43.9%,50.2%,56.5%);stroke-opacity:1.0;stroke-width:1.0\" x1=\"0\" x2=\"0\" y1=\"3.0\" y2=\"-4.5\"></line><text style=\"alignment-baseline:hanging;fill:rgb(43.9%,50.2%,56.5%);fill-opacity:1.0;font-size:10px;font-weight:normal;stroke:none;text-anchor:middle\" x=\"0\" y=\"6\"></text></g></g></g></svg><div class=\"toyplot-interactive\"><ul class=\"toyplot-mark-popup\" onmouseleave=\"this.style.visibility='hidden'\" style=\"background:rgba(0%,0%,0%,0.75);border:0;border-radius:6px;color:white;cursor:default;list-style:none;margin:0;padding:5px;position:fixed;visibility:hidden\">\n",
       "            <li class=\"toyplot-mark-popup-title\" style=\"color:lightgray;cursor:default;padding:5px;list-style:none;margin:0\"></li>\n",
       "            <li class=\"toyplot-mark-popup-save-csv\" onmouseout=\"this.style.color='white';this.style.background='steelblue'\" onmouseover=\"this.style.color='steelblue';this.style.background='white'\" style=\"border-radius:3px;padding:5px;list-style:none;margin:0\">\n",
       "                Save as .csv\n",
       "            </li>\n",
       "        </ul><script>\n",
       "        (function()\n",
       "        {\n",
       "          var data_tables = [{\"title\": \"Plot Data\", \"names\": [\"x\", \"y0\"], \"id\": \"t918df551ef39409097f5735d9a2a2b67\", \"columns\": [[1970.0, 1971.0, 1972.0, 1973.0, 1974.0, 1975.0, 1976.0, 1977.0, 1978.0, 1979.0, 1980.0, 1981.0, 1982.0], [17.689655172413794, 21.25, 18.714285714285715, 17.1, 22.703703703703702, 20.266666666666666, 21.573529411764707, 23.375, 24.061111111111114, 25.09310344827585, 33.696551724137926, 30.33448275862069, 31.70967741935484]], \"filename\": \"toyplot\"}];\n",
       "\n",
       "          function save_csv(data_table)\n",
       "          {\n",
       "            var uri = \"data:text/csv;charset=utf-8,\";\n",
       "            uri += data_table.names.join(\",\") + \"\\n\";\n",
       "            for(var i = 0; i != data_table.columns[0].length; ++i)\n",
       "            {\n",
       "              for(var j = 0; j != data_table.columns.length; ++j)\n",
       "              {\n",
       "                if(j)\n",
       "                  uri += \",\";\n",
       "                uri += data_table.columns[j][i];\n",
       "              }\n",
       "              uri += \"\\n\";\n",
       "            }\n",
       "            uri = encodeURI(uri);\n",
       "\n",
       "            var link = document.createElement(\"a\");\n",
       "            if(typeof link.download != \"undefined\")\n",
       "            {\n",
       "              link.href = uri;\n",
       "              link.style = \"visibility:hidden\";\n",
       "              link.download = data_table.filename + \".csv\";\n",
       "\n",
       "              document.body.appendChild(link);\n",
       "              link.click();\n",
       "              document.body.removeChild(link);\n",
       "            }\n",
       "            else\n",
       "            {\n",
       "              window.open(uri);\n",
       "            }\n",
       "          }\n",
       "\n",
       "          function open_popup(data_table)\n",
       "          {\n",
       "            return function(e)\n",
       "            {\n",
       "              var popup = document.querySelector(\"#t9714d12fa11948279bb72590124c2218 .toyplot-mark-popup\");\n",
       "              popup.querySelector(\".toyplot-mark-popup-title\").innerHTML = data_table.title;\n",
       "              popup.querySelector(\".toyplot-mark-popup-save-csv\").onclick = function() { popup.style.visibility = \"hidden\"; save_csv(data_table); }\n",
       "              popup.style.left = (e.clientX - 50) + \"px\";\n",
       "              popup.style.top = (e.clientY - 20) + \"px\";\n",
       "              popup.style.visibility = \"visible\";\n",
       "              e.stopPropagation();\n",
       "              e.preventDefault();\n",
       "            }\n",
       "\n",
       "          }\n",
       "\n",
       "          for(var i = 0; i != data_tables.length; ++i)\n",
       "          {\n",
       "            var data_table = data_tables[i];\n",
       "            var event_target = document.querySelector(\"#\" + data_table.id);\n",
       "            event_target.oncontextmenu = open_popup(data_table);\n",
       "          }\n",
       "        })();\n",
       "        </script><script>\n",
       "        (function()\n",
       "        {\n",
       "            function _sign(x)\n",
       "            {\n",
       "                return x < 0 ? -1 : x > 0 ? 1 : 0;\n",
       "            }\n",
       "\n",
       "            function _mix(a, b, amount)\n",
       "            {\n",
       "                return ((1.0 - amount) * a) + (amount * b);\n",
       "            }\n",
       "\n",
       "            function _log(x, base)\n",
       "            {\n",
       "                return Math.log(Math.abs(x)) / Math.log(base);\n",
       "            }\n",
       "\n",
       "            function _in_range(a, x, b)\n",
       "            {\n",
       "                var left = Math.min(a, b);\n",
       "                var right = Math.max(a, b);\n",
       "                return left <= x && x <= right;\n",
       "            }\n",
       "\n",
       "            function inside(range, projection)\n",
       "            {\n",
       "                for(var i = 0; i != projection.length; ++i)\n",
       "                {\n",
       "                    var segment = projection[i];\n",
       "                    if(_in_range(segment.range.min, range, segment.range.max))\n",
       "                        return true;\n",
       "                }\n",
       "                return false;\n",
       "            }\n",
       "\n",
       "            function to_domain(range, projection)\n",
       "            {\n",
       "                for(var i = 0; i != projection.length; ++i)\n",
       "                {\n",
       "                    var segment = projection[i];\n",
       "                    if(_in_range(segment.range.bounds.min, range, segment.range.bounds.max))\n",
       "                    {\n",
       "                        if(segment.scale == \"linear\")\n",
       "                        {\n",
       "                            var amount = (range - segment.range.min) / (segment.range.max - segment.range.min);\n",
       "                            return _mix(segment.domain.min, segment.domain.max, amount)\n",
       "                        }\n",
       "                        else if(segment.scale[0] == \"log\")\n",
       "                        {\n",
       "                            var amount = (range - segment.range.min) / (segment.range.max - segment.range.min);\n",
       "                            var base = segment.scale[1];\n",
       "                            return _sign(segment.domain.min) * Math.pow(base, _mix(_log(segment.domain.min, base), _log(segment.domain.max, base), amount));\n",
       "                        }\n",
       "                    }\n",
       "                }\n",
       "            }\n",
       "\n",
       "            function display_coordinates(e)\n",
       "            {\n",
       "                var current = svg.createSVGPoint();\n",
       "                current.x = e.clientX;\n",
       "                current.y = e.clientY;\n",
       "\n",
       "                for(var axis_id in axes)\n",
       "                {\n",
       "                    var axis = document.querySelector(\"#\" + axis_id);\n",
       "                    var coordinates = axis.querySelector(\".toyplot-coordinates-Axis-coordinates\");\n",
       "                    if(coordinates)\n",
       "                    {\n",
       "                        var projection = axes[axis_id];\n",
       "                        var local = current.matrixTransform(axis.getScreenCTM().inverse());\n",
       "                        if(inside(local.x, projection))\n",
       "                        {\n",
       "                            var domain = to_domain(local.x, projection);\n",
       "                            coordinates.style.visibility = \"visible\";\n",
       "                            coordinates.setAttribute(\"transform\", \"translate(\" + local.x + \")\");\n",
       "                            var text = coordinates.querySelector(\"text\");\n",
       "                            text.textContent = domain.toFixed(2);\n",
       "                        }\n",
       "                        else\n",
       "                        {\n",
       "                            coordinates.style.visibility= \"hidden\";\n",
       "                        }\n",
       "                    }\n",
       "                }\n",
       "            }\n",
       "\n",
       "            var root_id = \"t9714d12fa11948279bb72590124c2218\";\n",
       "            var axes = {\"t6376592baadb4f42bddcf4171a71f859\": [{\"domain\": {\"bounds\": {\"max\": Infinity, \"min\": -Infinity}, \"max\": 1982.0, \"min\": 1970.0}, \"range\": {\"bounds\": {\"max\": Infinity, \"min\": -Infinity}, \"max\": 284.0, \"min\": 0.0}, \"scale\": \"linear\"}], \"ta3462cf2d6b1466898657b1725bc71ab\": [{\"domain\": {\"bounds\": {\"max\": Infinity, \"min\": -Infinity}, \"max\": 33.696551724137926, \"min\": 0.0}, \"range\": {\"bounds\": {\"max\": Infinity, \"min\": -Infinity}, \"max\": 149.60000000000002, \"min\": 0.0}, \"scale\": \"linear\"}]};\n",
       "\n",
       "            var svg = document.querySelector(\"#\" + root_id + \" svg\");\n",
       "            svg.addEventListener(\"click\", display_coordinates);\n",
       "        })();\n",
       "        </script></div></div>"
      ]
     },
     "metadata": {},
     "output_type": "display_data"
    }
   ],
   "source": [
    "canvas = toyplot.Canvas('4in', '2.6in')\n",
    "\n",
    "axes = canvas.cartesian(xlabel = 'Model Year',\n",
    "                        ylabel = 'Average MPG')\n",
    "\n",
    "axes.plot(average_mpg_per_year.index + 1900, average_mpg_per_year)\n",
    "\n",
    "# It's usually best to make the y-axis 0-based.\n",
    "axes.y.domain.min = 0"
   ]
  },
  {
   "cell_type": "code",
   "execution_count": 6,
   "metadata": {
    "collapsed": false
   },
   "outputs": [],
   "source": [
    "toyplot.pdf.render(canvas, 'XY_Trend.pdf')\n",
    "toyplot.svg.render(canvas, 'XY_Trend.svg')\n",
    "toyplot.png.render(canvas, 'XY_Trend.png', scale=5)"
   ]
  },
  {
   "cell_type": "code",
   "execution_count": null,
   "metadata": {
    "collapsed": true
   },
   "outputs": [],
   "source": []
  }
 ],
 "metadata": {
  "kernelspec": {
   "display_name": "Python 2",
   "language": "python",
   "name": "python2"
  },
  "language_info": {
   "codemirror_mode": {
    "name": "ipython",
    "version": 2
   },
   "file_extension": ".py",
   "mimetype": "text/x-python",
   "name": "python",
   "nbconvert_exporter": "python",
   "pygments_lexer": "ipython2",
   "version": "2.7.13"
  }
 },
 "nbformat": 4,
 "nbformat_minor": 1
}
